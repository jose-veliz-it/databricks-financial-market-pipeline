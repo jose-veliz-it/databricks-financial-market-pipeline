{
 "cells": [
  {
   "cell_type": "code",
   "execution_count": 0,
   "metadata": {
    "application/vnd.databricks.v1+cell": {
     "cellMetadata": {
      "byteLimit": 2048000,
      "rowLimit": 10000
     },
     "inputWidgets": {},
     "nuid": "5c0c81e4-6380-494a-a57b-11548663b2d3",
     "showTitle": false,
     "tableResultSettingsMap": {},
     "title": ""
    }
   },
   "outputs": [],
   "source": [
    "# Test Alpha Vantage API connection\n",
    "import requests\n",
    "import json\n",
    "\n",
    "# Your API key\n",
    "API_KEY = \"YOUR_ALPHA_VANTAGE_KEY\"  # Replace with your actual key\n",
    "\n",
    "# Get Apple stock data\n",
    "url = f\"https://www.alphavantage.co/query?function=TIME_SERIES_DAILY&symbol=AAPL&apikey={API_KEY}&outputsize=compact\"\n",
    "\n",
    "response = requests.get(url)\n",
    "data = response.json()\n",
    "\n",
    "# Print results\n",
    "print(\"API Response Status:\", response.status_code)\n",
    "\n",
    "if \"Time Series (Daily)\" in data:\n",
    "    print(\"API connection successful!\")\n",
    "    print(f\"Retrieved data for {len(data['Time Series (Daily)'])} days\")\n",
    "    \n",
    "    # Show first date's data\n",
    "    first_date = list(data['Time Series (Daily)'].keys())[0]\n",
    "    print(f\"\\nSample data for {first_date}:\")\n",
    "    print(json.dumps(data['Time Series (Daily)'][first_date], indent=2))\n",
    "else:\n",
    "    print(\"API error:\", data.get(\"Note\", data.get(\"Error Message\", \"Unknown error\")))\n",
    "\n",
    "# Technologies: Databricks, Delta Lake, PySpark, Python, REST APIs, Medallion Architecture"
   ]
  }
 ],
 "metadata": {
  "application/vnd.databricks.v1+notebook": {
   "computePreferences": null,
   "dashboards": [],
   "environmentMetadata": {
    "base_environment": "",
    "environment_version": "4"
   },
   "inputWidgetPreferences": null,
   "language": "python",
   "notebookMetadata": {
    "pythonIndentUnit": 4
   },
   "notebookName": "01_Test_API_Connection",
   "widgets": {}
  },
  "language_info": {
   "name": "python"
  }
 },
 "nbformat": 4,
 "nbformat_minor": 0
}
